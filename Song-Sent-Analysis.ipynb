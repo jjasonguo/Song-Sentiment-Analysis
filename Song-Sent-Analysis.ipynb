{
 "cells": [
  {
   "cell_type": "markdown",
   "id": "fd0e8536-bca0-436e-b070-92b7b17737d4",
   "metadata": {},
   "source": [
    "Description:\n",
    "\n",
    "[something about how music captures a feeling.\n",
    "\n",
    "With this goal in mind, Natural Language Processing (NLP) can be used to mine information from text and provide insights through sentiment analysis and visualization."
   ]
  },
  {
   "cell_type": "code",
   "execution_count": null,
   "id": "5279b95e-0441-4259-a03a-868fe76e0c38",
   "metadata": {},
   "outputs": [],
   "source": [
    "# necessary libraries\n",
    "\n",
    "import collections   \n",
    "import pandas as pd   \n",
    "import matplotlib.pyplot as plt   \n"
   ]
  }
 ],
 "metadata": {
  "kernelspec": {
   "display_name": "Python 3 (ipykernel)",
   "language": "python",
   "name": "python3"
  },
  "language_info": {
   "codemirror_mode": {
    "name": "ipython",
    "version": 3
   },
   "file_extension": ".py",
   "mimetype": "text/x-python",
   "name": "python",
   "nbconvert_exporter": "python",
   "pygments_lexer": "ipython3",
   "version": "3.12.7"
  }
 },
 "nbformat": 4,
 "nbformat_minor": 5
}
