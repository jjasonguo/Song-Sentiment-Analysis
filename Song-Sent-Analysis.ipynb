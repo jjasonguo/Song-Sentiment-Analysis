{
 "cells": [
  {
   "cell_type": "markdown",
   "id": "fd0e8536-bca0-436e-b070-92b7b17737d4",
   "metadata": {},
   "source": [
    "Description:\n",
    "\n",
    "[something about how music captures a feeling.\n",
    "\n",
    "With this goal in mind, Natural Language Processing (NLP) can be used to mine information from text and provide insights through sentiment analysis and visualization. The current implementation uses the SentimentIntesityAnalyzer from VADER, which is a rule-based sentiment analysis model. Results will be compared to machine learning algorithsm, as VADER model fails to understand irony and sarcasm very well and has many limitations."
   ]
  },
  {
   "cell_type": "code",
   "execution_count": null,
   "id": "5279b95e-0441-4259-a03a-868fe76e0c38",
   "metadata": {},
   "outputs": [],
   "source": [
    "# general & plotting\n",
    "import collections   \n",
    "import pandas as pd   \n",
    "import matplotlib.pyplot as plt  \n",
    "import plotly.express as px\n",
    "import plotly.io as pio\n",
    "import numpy as np\n",
    "\n",
    "# nlp\n",
    "import nltk\n",
    "from nltk.corpus import stopwords\n",
    "from nltk.sentiment.vader import SentimentIntensityAnalyzer\n",
    "\n",
    "# language detection\n",
    "import fasttext as ft\n",
    "\n",
    "# deep learning\n",
    "import keras\n",
    "from keras.models import Sequential\n",
    "from keras.layers import Dense,LSTM,Dropout,Embedding, Bidirectional\n"
   ]
  },
  {
   "cell_type": "code",
   "execution_count": 2,
   "id": "2f30e732-545d-4c45-a2f7-689037ab293b",
   "metadata": {},
   "outputs": [
    {
     "name": "stdout",
     "output_type": "stream",
     "text": [
      "Collecting fasttext\n",
      "  Downloading fasttext-0.9.3.tar.gz (73 kB)\n",
      "  Installing build dependencies ... \u001b[?25ldone\n",
      "\u001b[?25h  Getting requirements to build wheel ... \u001b[?25ldone\n",
      "\u001b[?25h  Preparing metadata (pyproject.toml) ... \u001b[?25ldone\n",
      "\u001b[?25hCollecting pybind11>=2.2 (from fasttext)\n",
      "  Using cached pybind11-2.13.6-py3-none-any.whl.metadata (9.5 kB)\n",
      "Requirement already satisfied: setuptools>=0.7.0 in /opt/anaconda3/lib/python3.12/site-packages (from fasttext) (75.1.0)\n",
      "Requirement already satisfied: numpy in /opt/anaconda3/lib/python3.12/site-packages (from fasttext) (1.26.4)\n",
      "Using cached pybind11-2.13.6-py3-none-any.whl (243 kB)\n",
      "Building wheels for collected packages: fasttext\n",
      "  Building wheel for fasttext (pyproject.toml) ... \u001b[?25ldone\n",
      "\u001b[?25h  Created wheel for fasttext: filename=fasttext-0.9.3-cp312-cp312-macosx_14_0_arm64.whl size=291850 sha256=f797924129e0d9ea1e1651f569a21296db855dead82bf240b9aa577ee3fb27d3\n",
      "  Stored in directory: /Users/jasonguo/Library/Caches/pip/wheels/20/27/95/a7baf1b435f1cbde017cabdf1e9688526d2b0e929255a359c6\n",
      "Successfully built fasttext\n",
      "Installing collected packages: pybind11, fasttext\n",
      "Successfully installed fasttext-0.9.3 pybind11-2.13.6\n"
     ]
    }
   ],
   "source": [
    "!pip install fasttext\n",
    "\n",
    "#read csv"
   ]
  },
  {
   "cell_type": "code",
   "execution_count": null,
   "id": "65802422-7798-4bdb-a76a-44fe0906b07f",
   "metadata": {},
   "outputs": [],
   "source": [
    "#testing git contribution / email problem"
   ]
  },
  {
   "cell_type": "code",
   "execution_count": null,
   "id": "27e0ba80-a502-4f6c-af54-b4671310c20e",
   "metadata": {},
   "outputs": [],
   "source": []
  }
 ],
 "metadata": {
  "kernelspec": {
   "display_name": "Python 3 (ipykernel)",
   "language": "python",
   "name": "python3"
  },
  "language_info": {
   "codemirror_mode": {
    "name": "ipython",
    "version": 3
   },
   "file_extension": ".py",
   "mimetype": "text/x-python",
   "name": "python",
   "nbconvert_exporter": "python",
   "pygments_lexer": "ipython3",
   "version": "3.12.7"
  }
 },
 "nbformat": 4,
 "nbformat_minor": 5
}
